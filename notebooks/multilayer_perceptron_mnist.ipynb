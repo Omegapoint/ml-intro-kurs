{
 "cells": [
  {
   "cell_type": "code",
   "execution_count": 4,
   "metadata": {},
   "outputs": [],
   "source": [
    "%matplotlib inline"
   ]
  },
  {
   "cell_type": "code",
   "execution_count": 5,
   "metadata": {
    "scrolled": true
   },
   "outputs": [
    {
     "name": "stderr",
     "output_type": "stream",
     "text": [
      "Using TensorFlow backend.\n"
     ]
    }
   ],
   "source": [
    "import numpy\n",
    "from keras.datasets import mnist\n",
    "from keras.models import Sequential\n",
    "from keras.layers import Dense\n",
    "from keras.utils import np_utils\n",
    "import matplotlib.pyplot as plt\n",
    "import matplotlib.image as img"
   ]
  },
  {
   "cell_type": "markdown",
   "metadata": {},
   "source": [
    "Initialize dataset and random seed (for reproducible results)"
   ]
  },
  {
   "cell_type": "code",
   "execution_count": 6,
   "metadata": {},
   "outputs": [],
   "source": [
    "(X_train_raw, y_train_raw), (X_test_raw, y_test_raw) = mnist.load_data()\n",
    "\n",
    "# make immutable: we want to keep this data.\n",
    "X_train_raw.flags.writeable = False\n",
    "X_test_raw.flags.writeable = False\n",
    "y_train_raw.flags.writeable = False\n",
    "y_test_raw.flags.writeable = False\n",
    "\n",
    "# fix random seed for reproducibility\n",
    "seed = 7\n",
    "numpy.random.seed(seed)"
   ]
  },
  {
   "cell_type": "markdown",
   "metadata": {},
   "source": [
    "We print some samples of the input data just to show what it looks like."
   ]
  },
  {
   "cell_type": "code",
   "execution_count": 7,
   "metadata": {},
   "outputs": [
    {
     "name": "stdout",
     "output_type": "stream",
     "text": [
      "X_train shape: (60000, 28, 28)\n",
      "y_train shape: (60000,)\n",
      "X_test shape: (10000, 28, 28)\n",
      "y_test shape: (10000,)\n"
     ]
    },
    {
     "data": {
      "image/png": "[encoded data removed]",
      "text/plain": [
       "<matplotlib.figure.Figure at 0x10b0c6978>"
      ]
     },
     "metadata": {},
     "output_type": "display_data"
    },
    {
     "name": "stdout",
     "output_type": "stream",
     "text": [
      "y_train_raw[0]: 5\n",
      "y_train_raw[1]: 0\n",
      "y_train_raw[2]: 4\n",
      "y_train_raw[3]: 1\n"
     ]
    }
   ],
   "source": [
    "print(\"X_train shape:\", X_train_raw.shape)\n",
    "print(\"y_train shape:\", y_train_raw.shape)\n",
    "print(\"X_test shape:\", X_test_raw.shape)\n",
    "print(\"y_test shape:\", y_test_raw.shape)\n",
    "\n",
    "# plot 4 images as gray scale\n",
    "plt.subplot(221)\n",
    "plt.imshow(X_train_raw[0], cmap=plt.get_cmap('gray'))\n",
    "plt.subplot(222)\n",
    "plt.imshow(X_train_raw[1], cmap=plt.get_cmap('gray'))\n",
    "plt.subplot(223)\n",
    "plt.imshow(X_train_raw[2], cmap=plt.get_cmap('gray'))\n",
    "plt.subplot(224)\n",
    "plt.imshow(X_train_raw[3], cmap=plt.get_cmap('gray'))\n",
    "# show the plot\n",
    "plt.show()\n",
    "\n",
    "for i in range(0,4):\n",
    "    print(\"y_train_raw[%d]:\" % i, y_train_raw[i])"
   ]
  },
  {
   "cell_type": "code",
   "execution_count": 8,
   "metadata": {},
   "outputs": [
    {
     "name": "stdout",
     "output_type": "stream",
     "text": [
      "X_train_flattened shape: (60000, 784)\n",
      "X_test_flattened shape: (10000, 784)\n"
     ]
    },
    {
     "data": {
      "image/png": "[encoded data removed]",
      "text/plain": [
       "<matplotlib.figure.Figure at 0x104c0b668>"
      ]
     },
     "metadata": {},
     "output_type": "display_data"
    },
    {
     "name": "stdout",
     "output_type": "stream",
     "text": [
      "y_train_raw[0]: 5\n",
      "y_train_raw[1]: 0\n",
      "y_train_raw[2]: 4\n",
      "y_train_raw[3]: 1\n"
     ]
    }
   ],
   "source": [
    "# flatten 28*28 images to a 784 vector for each image\n",
    "num_pixels = X_train_raw.shape[1] * X_train_raw.shape[2]\n",
    "X_train_flattened = X_train_raw.reshape(X_train_raw.shape[0], num_pixels).astype('float32')\n",
    "X_test_flattened = X_test_raw.reshape(X_test_raw.shape[0], num_pixels).astype('float32')\n",
    "\n",
    "print(\"X_train_flattened shape:\", X_train_flattened.shape)\n",
    "print(\"X_test_flattened shape:\", X_test_flattened.shape)\n",
    "plt.subplot(411)\n",
    "plt.imshow([X_train_flattened[0]], cmap=plt.get_cmap('gray'), extent = (0, 784, 0, 70), aspect='equal')\n",
    "plt.subplot(412)\n",
    "plt.imshow([X_train_flattened[1]], cmap=plt.get_cmap('gray'), extent = (0, 784, 0, 70), aspect='equal')\n",
    "plt.subplot(413)\n",
    "plt.imshow([X_train_flattened[2]], cmap=plt.get_cmap('gray'), extent = (0, 784, 0, 70), aspect='equal')\n",
    "plt.subplot(414)\n",
    "plt.imshow([X_train_flattened[3]], cmap=plt.get_cmap('gray'), extent = (0, 784, 0, 70), aspect='equal')\n",
    "plt.show()\n",
    "\n",
    "for i in range(0,4):\n",
    "    print(\"y_train_raw[%d]:\" % i, y_train_raw[i])"
   ]
  },
  {
   "cell_type": "code",
   "execution_count": 9,
   "metadata": {},
   "outputs": [
    {
     "name": "stdout",
     "output_type": "stream",
     "text": [
      "X_train shape: still (60000, 784)\n",
      "X_test shape: still (10000, 784)\n"
     ]
    }
   ],
   "source": [
    "# normalize inputs from 0-255 to 0-1\n",
    "X_train = X_train_flattened / 255\n",
    "X_test = X_test_flattened / 255\n",
    "print(\"X_train shape: still\", X_train.shape)\n",
    "print(\"X_test shape: still\", X_test.shape)"
   ]
  },
  {
   "cell_type": "code",
   "execution_count": 10,
   "metadata": {},
   "outputs": [
    {
     "name": "stdout",
     "output_type": "stream",
     "text": [
      "y_test_raw[0]:  7\n",
      "y_test[0]:  [ 0.  0.  0.  0.  0.  0.  0.  1.  0.  0.]\n"
     ]
    }
   ],
   "source": [
    "# one hot encode outputs\n",
    "y_train = np_utils.to_categorical(y_train_raw)\n",
    "y_test = np_utils.to_categorical(y_test_raw)\n",
    "num_classes = y_test.shape[1]\n",
    "print(\"y_test_raw[0]: \", y_test_raw[0])\n",
    "print(\"y_test[0]: \", y_test[0])"
   ]
  },
  {
   "cell_type": "code",
   "execution_count": 11,
   "metadata": {},
   "outputs": [],
   "source": [
    "# define baseline model\n",
    "def baseline_model():\n",
    "    # create model\n",
    "    model = Sequential()\n",
    "    model.add(Dense(num_pixels, input_dim=num_pixels, kernel_initializer='normal', activation='relu'))\n",
    "    model.add(Dense(num_classes, kernel_initializer='normal', activation='softmax'))\n",
    "    # Compile model\n",
    "    model.compile(loss='categorical_crossentropy', optimizer='adam', metrics=['accuracy'])\n",
    "    return model"
   ]
  },
  {
   "cell_type": "code",
   "execution_count": 12,
   "metadata": {},
   "outputs": [],
   "source": [
    "def print_weights(layer):\n",
    "    weights = layer.get_weights()\n",
    "    input_weights = weights[0]\n",
    "    bias_vector = weights[1]\n",
    "    print(\"input weights shape:\", numpy.array(input_weights).shape)\n",
    "    print(\"bias vector shape:\", numpy.array(bias_vector).shape)\n",
    "    print(\"input weights first neuron:\", input_weights[0])\n",
    "    print(\"bias vector:\", bias_vector)\n",
    "\n",
    "    \n",
    "def visualize_model(model):\n",
    "    for layer in model.layers:\n",
    "        print(\"units:\", layer.units)\n",
    "        print(\"input:\", layer.input)\n",
    "        print(\"output:\", layer.output)\n",
    "        print_weights(layer)"
   ]
  },
  {
   "cell_type": "code",
   "execution_count": 13,
   "metadata": {},
   "outputs": [],
   "source": [
    "# build the model\n",
    "model = baseline_model()\n",
    "#visualize_model(model)"
   ]
  },
  {
   "cell_type": "code",
   "execution_count": 14,
   "metadata": {},
   "outputs": [
    {
     "name": "stdout",
     "output_type": "stream",
     "text": [
      "Train on 60000 samples, validate on 10000 samples\n",
      "Epoch 1/10\n",
      " - 8s - loss: 0.2782 - acc: 0.9210 - val_loss: 0.1412 - val_acc: 0.9573\n",
      "Epoch 2/10\n",
      " - 7s - loss: 0.1116 - acc: 0.9676 - val_loss: 0.0924 - val_acc: 0.9703\n",
      "Epoch 3/10\n",
      " - 7s - loss: 0.0719 - acc: 0.9795 - val_loss: 0.0786 - val_acc: 0.9770\n",
      "Epoch 4/10\n",
      " - 7s - loss: 0.0505 - acc: 0.9854 - val_loss: 0.0741 - val_acc: 0.9768\n",
      "Epoch 5/10\n",
      " - 7s - loss: 0.0375 - acc: 0.9892 - val_loss: 0.0669 - val_acc: 0.9790\n",
      "Epoch 6/10\n",
      " - 7s - loss: 0.0271 - acc: 0.9926 - val_loss: 0.0619 - val_acc: 0.9810\n",
      "Epoch 7/10\n",
      " - 7s - loss: 0.0208 - acc: 0.9949 - val_loss: 0.0620 - val_acc: 0.9804\n",
      "Epoch 8/10\n",
      " - 7s - loss: 0.0140 - acc: 0.9971 - val_loss: 0.0617 - val_acc: 0.9807\n",
      "Epoch 9/10\n",
      " - 7s - loss: 0.0110 - acc: 0.9977 - val_loss: 0.0598 - val_acc: 0.9813\n",
      "Epoch 10/10\n",
      " - 7s - loss: 0.0085 - acc: 0.9985 - val_loss: 0.0610 - val_acc: 0.9814\n",
      "Baseline Error: 1.86%\n"
     ]
    }
   ],
   "source": [
    "# Fit the model\n",
    "model.fit(X_train, y_train, validation_data=(X_test, y_test), epochs=10, batch_size=200, verbose=2)\n",
    "#visualize_model(model)\n",
    "# Final evaluation of the model\n",
    "scores = model.evaluate(X_test, y_test, verbose=0)\n",
    "print(\"Baseline Error: %.2f%%\" % (100-scores[1]*100))"
   ]
  },
  {
   "cell_type": "code",
   "execution_count": 15,
   "metadata": {},
   "outputs": [
    {
     "data": {
      "image/png": "[encoded data removed]",
      "text/plain": [
       "<matplotlib.figure.Figure at 0x10d42fd30>"
      ]
     },
     "metadata": {},
     "output_type": "display_data"
    },
    {
     "data": {
      "image/png": "[encoded data removed]",
      "text/plain": [
       "<matplotlib.figure.Figure at 0x10d779048>"
      ]
     },
     "metadata": {},
     "output_type": "display_data"
    },
    {
     "name": "stdout",
     "output_type": "stream",
     "text": [
      "Most likely: 6\n"
     ]
    }
   ],
   "source": [
    "fromfile = img.imread(\"../drawingboard/digit.png\")\n",
    "reduced = fromfile[:,:,0]\n",
    "plt.imshow(reduced, cmap=plt.get_cmap('gray'))\n",
    "plt.show()\n",
    "test = reduced.reshape(784)\n",
    "predicted = model.predict(numpy.array([test]), 1)\n",
    "plt.bar([0, 1, 2, 3, 4, 5, 6, 7, 8, 9], predicted[0], align='center')\n",
    "plt.show()\n",
    "print(\"Most likely:\", numpy.argmax(predicted))"
   ]
  },
  {
   "cell_type": "code",
   "execution_count": 16,
   "metadata": {},
   "outputs": [],
   "source": [
    "def read_digit(sequence_number):\n",
    "    fromfile = img.imread(\"../sevens/digit\" + str(sequence_number) + \".png\")\n",
    "    reduced = fromfile[:,:,0]\n",
    "    #plt.imshow(reduced, cmap=plt.get_cmap('gray'))\n",
    "    #plt.show()\n",
    "    return reduced.reshape(784)"
   ]
  },
  {
   "cell_type": "code",
   "execution_count": null,
   "metadata": {},
   "outputs": [],
   "source": []
  }
 ],
 "metadata": {
  "kernelspec": {
   "display_name": "Python 3",
   "language": "python",
   "name": "python3"
  },
  "language_info": {
   "codemirror_mode": {
    "name": "ipython",
    "version": 3
   },
   "file_extension": ".py",
   "mimetype": "text/x-python",
   "name": "python",
   "nbconvert_exporter": "python",
   "pygments_lexer": "ipython3",
   "version": "3.6.4"
  }
 },
 "nbformat": 4,
 "nbformat_minor": 2
}
