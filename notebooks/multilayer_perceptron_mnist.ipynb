{
 "cells": [
  {
   "cell_type": "code",
   "execution_count": 2,
   "metadata": {},
   "outputs": [],
   "source": [
    "%matplotlib inline"
   ]
  },
  {
   "cell_type": "code",
   "execution_count": 3,
   "metadata": {
    "scrolled": true
   },
   "outputs": [
    {
     "name": "stderr",
     "output_type": "stream",
     "text": [
      "Using TensorFlow backend.\n"
     ]
    }
   ],
   "source": [
    "import numpy\n",
    "from keras.datasets import mnist\n",
    "from keras.models import Sequential\n",
    "from keras.layers import Dense\n",
    "from keras.layers import Dropout\n",
    "from keras.utils import np_utils\n",
    "import matplotlib.pyplot as plt"
   ]
  },
  {
   "cell_type": "markdown",
   "metadata": {},
   "source": [
    "Initialize dataset and random seed (for reproducible results)"
   ]
  },
  {
   "cell_type": "code",
   "execution_count": 4,
   "metadata": {},
   "outputs": [],
   "source": [
    "(X_train_raw, y_train_raw), (X_test_raw, y_test_raw) = mnist.load_data()\n",
    "\n",
    "# make immutable: we want to keep this data.\n",
    "X_train_raw.flags.writeable = False\n",
    "X_test_raw.flags.writeable = False\n",
    "y_train_raw.flags.writeable = False\n",
    "y_test_raw.flags.writeable = False\n",
    "\n",
    "# fix random seed for reproducibility\n",
    "seed = 7\n",
    "numpy.random.seed(seed)"
   ]
  },
  {
   "cell_type": "markdown",
   "metadata": {},
   "source": [
    "Visualize data"
   ]
  },
  {
   "cell_type": "code",
   "execution_count": 5,
   "metadata": {},
   "outputs": [
    {
     "name": "stdout",
     "output_type": "stream",
     "text": [
      "X_train shape: (60000, 28, 28)\n",
      "y_train shape: (60000,)\n",
      "X_test shape: (10000, 28, 28)\n",
      "y_test shape: (10000,)\n"
     ]
    },
    {
     "data": {
      "image/png": "[encoded data removed]",
      "text/plain": [
       "<matplotlib.figure.Figure at 0x11a8c3080>"
      ]
     },
     "metadata": {},
     "output_type": "display_data"
    }
   ],
   "source": [
    "print(\"X_train shape:\", X_train_raw.shape)\n",
    "print(\"y_train shape:\", y_train_raw.shape)\n",
    "print(\"X_test shape:\", X_test_raw.shape)\n",
    "print(\"y_test shape:\", y_test_raw.shape)\n",
    "\n",
    "# plot 4 images as gray scale\n",
    "plt.subplot(221)\n",
    "plt.imshow(X_train_raw[0], cmap=plt.get_cmap('gray'))\n",
    "plt.subplot(222)\n",
    "plt.imshow(X_train_raw[1], cmap=plt.get_cmap('gray'))\n",
    "plt.subplot(223)\n",
    "plt.imshow(X_train_raw[2], cmap=plt.get_cmap('gray'))\n",
    "plt.subplot(224)\n",
    "plt.imshow(X_train_raw[3], cmap=plt.get_cmap('gray'))\n",
    "# show the plot\n",
    "plt.show()"
   ]
  },
  {
   "cell_type": "code",
   "execution_count": 6,
   "metadata": {},
   "outputs": [
    {
     "name": "stdout",
     "output_type": "stream",
     "text": [
      "X_train_flattened shape: (60000, 784)\n",
      "X_test_flattened shape: (10000, 784)\n"
     ]
    }
   ],
   "source": [
    "# flatten 28*28 images to a 784 vector for each image\n",
    "num_pixels = X_train_raw.shape[1] * X_train_raw.shape[2]\n",
    "X_train_flattened = X_train_raw.reshape(X_train_raw.shape[0], num_pixels).astype('float32')\n",
    "X_test_flattened = X_test_raw.reshape(X_test_raw.shape[0], num_pixels).astype('float32')\n",
    "print(\"X_train_flattened shape:\", X_train_flattened.shape)\n",
    "print(\"X_test_flattened shape:\", X_test_flattened.shape)"
   ]
  },
  {
   "cell_type": "code",
   "execution_count": 7,
   "metadata": {},
   "outputs": [
    {
     "name": "stdout",
     "output_type": "stream",
     "text": [
      "X_train shape: still (60000, 784)\n",
      "X_test shape: still (10000, 784)\n"
     ]
    }
   ],
   "source": [
    "# normalize inputs from 0-255 to 0-1\n",
    "X_train = X_train_flattened / 255\n",
    "X_test = X_test_flattened / 255\n",
    "print(\"X_train shape: still\", X_train.shape)\n",
    "print(\"X_test shape: still\", X_test.shape)"
   ]
  },
  {
   "cell_type": "code",
   "execution_count": 8,
   "metadata": {},
   "outputs": [
    {
     "name": "stdout",
     "output_type": "stream",
     "text": [
      "y_test[1]:  [ 0.  0.  1.  0.  0.  0.  0.  0.  0.  0.]\n"
     ]
    }
   ],
   "source": [
    "# one hot encode outputs\n",
    "y_train = np_utils.to_categorical(y_train_raw)\n",
    "y_test = np_utils.to_categorical(y_test_raw)\n",
    "num_classes = y_test.shape[1]\n",
    "print(\"y_test[1]: \", y_test[1])"
   ]
  },
  {
   "cell_type": "code",
   "execution_count": 19,
   "metadata": {},
   "outputs": [],
   "source": [
    "# define baseline model\n",
    "def baseline_model():\n",
    "\t# create model\n",
    "\tmodel = Sequential()\n",
    "\tmodel.add(Dense(num_pixels, input_dim=num_pixels, kernel_initializer='normal', activation='relu'))\n",
    "\tmodel.add(Dense(num_classes, kernel_initializer='normal', activation='softmax'))\n",
    "\t# Compile model\n",
    "\tmodel.compile(loss='categorical_crossentropy', optimizer='sgd', metrics=['accuracy'])\n",
    "\treturn model"
   ]
  },
  {
   "cell_type": "code",
   "execution_count": 20,
   "metadata": {},
   "outputs": [
    {
     "name": "stdout",
     "output_type": "stream",
     "text": [
      "[<keras.layers.core.Dense object at 0x1448e8630>, <keras.layers.core.Dense object at 0x144191cf8>]\n",
      "[<tf.Tensor 'dense_11_input:0' shape=(?, 784) dtype=float32>]\n",
      "[<tf.Tensor 'dense_12/Softmax:0' shape=(?, 10) dtype=float32>]\n",
      "Train on 60000 samples, validate on 10000 samples\n",
      "Epoch 1/20\n",
      " - 12s - loss: 1.2562 - acc: 0.7087 - val_loss: 0.7063 - val_acc: 0.8528\n",
      "Epoch 2/20\n",
      " - 9s - loss: 0.6038 - acc: 0.8620 - val_loss: 0.4936 - val_acc: 0.8834\n",
      "Epoch 3/20\n",
      " - 10s - loss: 0.4733 - acc: 0.8825 - val_loss: 0.4168 - val_acc: 0.8943\n",
      "Epoch 4/20\n",
      " - 8s - loss: 0.4146 - acc: 0.8927 - val_loss: 0.3755 - val_acc: 0.9021\n",
      "Epoch 5/20\n",
      " - 10s - loss: 0.3794 - acc: 0.8998 - val_loss: 0.3492 - val_acc: 0.9071\n",
      "Epoch 6/20\n",
      " - 9s - loss: 0.3553 - acc: 0.9041 - val_loss: 0.3302 - val_acc: 0.9107\n",
      "Epoch 7/20\n",
      " - 10s - loss: 0.3371 - acc: 0.9079 - val_loss: 0.3150 - val_acc: 0.9142\n",
      "Epoch 8/20\n",
      " - 9s - loss: 0.3226 - acc: 0.9114 - val_loss: 0.3030 - val_acc: 0.9176\n",
      "Epoch 9/20\n",
      " - 11s - loss: 0.3107 - acc: 0.9141 - val_loss: 0.2938 - val_acc: 0.9194\n",
      "Epoch 10/20\n",
      " - 8s - loss: 0.3004 - acc: 0.9171 - val_loss: 0.2841 - val_acc: 0.9225\n",
      "Epoch 11/20\n",
      " - 8s - loss: 0.2914 - acc: 0.9189 - val_loss: 0.2771 - val_acc: 0.9241\n",
      "Epoch 12/20\n",
      " - 8s - loss: 0.2834 - acc: 0.9209 - val_loss: 0.2706 - val_acc: 0.9264\n",
      "Epoch 13/20\n",
      " - 8s - loss: 0.2761 - acc: 0.9228 - val_loss: 0.2643 - val_acc: 0.9268\n",
      "Epoch 14/20\n",
      " - 11s - loss: 0.2696 - acc: 0.9247 - val_loss: 0.2584 - val_acc: 0.9290\n",
      "Epoch 15/20\n",
      " - 11s - loss: 0.2635 - acc: 0.9267 - val_loss: 0.2537 - val_acc: 0.9297\n",
      "Epoch 16/20\n",
      " - 9s - loss: 0.2579 - acc: 0.9283 - val_loss: 0.2491 - val_acc: 0.9309\n",
      "Epoch 17/20\n",
      " - 8s - loss: 0.2525 - acc: 0.9302 - val_loss: 0.2445 - val_acc: 0.9315\n",
      "Epoch 18/20\n",
      " - 8s - loss: 0.2476 - acc: 0.9314 - val_loss: 0.2397 - val_acc: 0.9322\n",
      "Epoch 19/20\n",
      " - 9s - loss: 0.2428 - acc: 0.9330 - val_loss: 0.2364 - val_acc: 0.9338\n",
      "Epoch 20/20\n",
      " - 9s - loss: 0.2384 - acc: 0.9346 - val_loss: 0.2322 - val_acc: 0.9355\n",
      "Baseline Error: 6.45%\n"
     ]
    }
   ],
   "source": [
    "# build the model\n",
    "model = baseline_model()\n",
    "print(model.layers)\n",
    "print(model.inputs)\n",
    "print(model.outputs)\n",
    "# Fit the model\n",
    "model.fit(X_train, y_train, validation_data=(X_test, y_test), epochs=20, batch_size=200, verbose=2)\n",
    "# Final evaluation of the model\n",
    "scores = model.evaluate(X_test, y_test, verbose=0)\n",
    "print(\"Baseline Error: %.2f%%\" % (100-scores[1]*100))"
   ]
  },
  {
   "cell_type": "code",
   "execution_count": null,
   "metadata": {},
   "outputs": [],
   "source": []
  },
  {
   "cell_type": "code",
   "execution_count": 60,
   "metadata": {},
   "outputs": [
    {
     "data": {
      "image/png": "[encoded data removed]",
      "text/plain": [
       "<matplotlib.figure.Figure at 0x12cdd59e8>"
      ]
     },
     "metadata": {},
     "output_type": "display_data"
    },
    {
     "data": {
      "image/png": "[encoded data removed]",
      "text/plain": [
       "<matplotlib.figure.Figure at 0x12cf13978>"
      ]
     },
     "metadata": {},
     "output_type": "display_data"
    },
    {
     "name": "stdout",
     "output_type": "stream",
     "text": [
      "Most likely: 6\n"
     ]
    }
   ],
   "source": [
    "sample_index = 22\n",
    "plt.imshow(X_test_raw[sample_index], cmap=plt.get_cmap('gray'))\n",
    "plt.show()\n",
    "predicted = model.predict(X_test[sample_index:sample_index + 1], 1)\n",
    "plt.bar([0, 1, 2, 3, 4, 5, 6, 7, 8, 9], predicted[0], align='edge')\n",
    "plt.show()\n",
    "print(\"Most likely:\", numpy.argmax(predicted))"
   ]
  }
 ],
 "metadata": {
  "kernelspec": {
   "display_name": "Python 3",
   "language": "python",
   "name": "python3"
  },
  "language_info": {
   "codemirror_mode": {
    "name": "ipython",
    "version": 3
   },
   "file_extension": ".py",
   "mimetype": "text/x-python",
   "name": "python",
   "nbconvert_exporter": "python",
   "pygments_lexer": "ipython3",
   "version": "3.6.4"
  }
 },
 "nbformat": 4,
 "nbformat_minor": 2
}
