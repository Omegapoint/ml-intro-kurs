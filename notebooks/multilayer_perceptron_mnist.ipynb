{
 "cells": [
  {
   "cell_type": "code",
   "execution_count": 36,
   "metadata": {},
   "outputs": [],
   "source": [
    "%matplotlib inline"
   ]
  },
  {
   "cell_type": "code",
   "execution_count": 37,
   "metadata": {
    "scrolled": true
   },
   "outputs": [],
   "source": [
    "import numpy\n",
    "from keras.datasets import mnist\n",
    "from keras.models import Sequential\n",
    "from keras.layers import Dense\n",
    "from keras.utils import np_utils\n",
    "import matplotlib.pyplot as plt\n",
    "import matplotlib.image as img"
   ]
  },
  {
   "cell_type": "markdown",
   "metadata": {},
   "source": [
    "Initialize dataset and random seed (for reproducible results)"
   ]
  },
  {
   "cell_type": "code",
   "execution_count": 38,
   "metadata": {},
   "outputs": [],
   "source": [
    "(X_train_raw, y_train_raw), (X_test_raw, y_test_raw) = mnist.load_data()\n",
    "\n",
    "# make immutable: we want to keep this data.\n",
    "X_train_raw.flags.writeable = False\n",
    "X_test_raw.flags.writeable = False\n",
    "y_train_raw.flags.writeable = False\n",
    "y_test_raw.flags.writeable = False\n",
    "\n",
    "# fix random seed for reproducibility\n",
    "seed = 7\n",
    "numpy.random.seed(seed)"
   ]
  },
  {
   "cell_type": "markdown",
   "metadata": {},
   "source": [
    "Visualize data"
   ]
  },
  {
   "cell_type": "code",
   "execution_count": 50,
   "metadata": {},
   "outputs": [
    {
     "name": "stdout",
     "output_type": "stream",
     "text": [
      "X_train shape: (60000, 28, 28)\n",
      "y_train shape: (60000,)\n",
      "X_test shape: (10000, 28, 28)\n",
      "y_test shape: (10000,)\n"
     ]
    },
    {
     "data": {
      "image/png": "[encoded data removed]",
      "text/plain": [
       "<matplotlib.figure.Figure at 0x1341ed160>"
      ]
     },
     "metadata": {},
     "output_type": "display_data"
    }
   ],
   "source": [
    "print(\"X_train shape:\", X_train_raw.shape)\n",
    "print(\"y_train shape:\", y_train_raw.shape)\n",
    "print(\"X_test shape:\", X_test_raw.shape)\n",
    "print(\"y_test shape:\", y_test_raw.shape)\n",
    "\n",
    "# plot 4 images as gray scale\n",
    "plt.subplot(221)\n",
    "plt.imshow(X_train_raw[0], cmap=plt.get_cmap('gray'))\n",
    "plt.subplot(222)\n",
    "plt.imshow(X_train_raw[1], cmap=plt.get_cmap('gray'))\n",
    "plt.subplot(223)\n",
    "plt.imshow(X_train_raw[2], cmap=plt.get_cmap('gray'))\n",
    "plt.subplot(224)\n",
    "plt.imshow(X_train_raw[3], cmap=plt.get_cmap('gray'))\n",
    "# show the plot\n",
    "plt.show()"
   ]
  },
  {
   "cell_type": "code",
   "execution_count": 40,
   "metadata": {},
   "outputs": [
    {
     "name": "stdout",
     "output_type": "stream",
     "text": [
      "X_train_flattened shape: (60000, 784)\n",
      "X_test_flattened shape: (10000, 784)\n"
     ]
    }
   ],
   "source": [
    "# flatten 28*28 images to a 784 vector for each image\n",
    "num_pixels = X_train_raw.shape[1] * X_train_raw.shape[2]\n",
    "X_train_flattened = X_train_raw.reshape(X_train_raw.shape[0], num_pixels).astype('float32')\n",
    "X_test_flattened = X_test_raw.reshape(X_test_raw.shape[0], num_pixels).astype('float32')\n",
    "print(\"X_train_flattened shape:\", X_train_flattened.shape)\n",
    "print(\"X_test_flattened shape:\", X_test_flattened.shape)"
   ]
  },
  {
   "cell_type": "code",
   "execution_count": 41,
   "metadata": {},
   "outputs": [
    {
     "name": "stdout",
     "output_type": "stream",
     "text": [
      "X_train shape: still (60000, 784)\n",
      "X_test shape: still (10000, 784)\n"
     ]
    }
   ],
   "source": [
    "# normalize inputs from 0-255 to 0-1\n",
    "X_train = X_train_flattened / 255\n",
    "X_test = X_test_flattened / 255\n",
    "print(\"X_train shape: still\", X_train.shape)\n",
    "print(\"X_test shape: still\", X_test.shape)"
   ]
  },
  {
   "cell_type": "code",
   "execution_count": 42,
   "metadata": {},
   "outputs": [
    {
     "name": "stdout",
     "output_type": "stream",
     "text": [
      "y_test[1]:  [ 0.  0.  1.  0.  0.  0.  0.  0.  0.  0.]\n"
     ]
    }
   ],
   "source": [
    "# one hot encode outputs\n",
    "y_train = np_utils.to_categorical(y_train_raw)\n",
    "y_test = np_utils.to_categorical(y_test_raw)\n",
    "num_classes = y_test.shape[1]\n",
    "print(\"y_test[1]: \", y_test[1])"
   ]
  },
  {
   "cell_type": "code",
   "execution_count": 43,
   "metadata": {},
   "outputs": [],
   "source": [
    "# define baseline model\n",
    "def baseline_model():\n",
    "\t# create model\n",
    "\tmodel = Sequential()\n",
    "\tmodel.add(Dense(num_pixels, input_dim=num_pixels, kernel_initializer='normal', activation='relu'))\n",
    "\tmodel.add(Dense(num_classes, kernel_initializer='normal', activation='softmax'))\n",
    "\t# Compile model\n",
    "\tmodel.compile(loss='categorical_crossentropy', optimizer='adam', metrics=['accuracy'])\n",
    "\treturn model"
   ]
  },
  {
   "cell_type": "code",
   "execution_count": 44,
   "metadata": {},
   "outputs": [],
   "source": [
    "def visualize_model(model):\n",
    "    for layer in model.layers:\n",
    "        print(\"input:\", layer.input)\n",
    "        print(\"output:\", layer.output)\n",
    "        print(\"units:\", layer.units)"
   ]
  },
  {
   "cell_type": "code",
   "execution_count": 45,
   "metadata": {},
   "outputs": [
    {
     "name": "stdout",
     "output_type": "stream",
     "text": [
      "input: Tensor(\"dense_17_input:0\", shape=(?, 784), dtype=float32)\n",
      "output: Tensor(\"dense_17/Relu:0\", shape=(?, 784), dtype=float32)\n",
      "units: 784\n",
      "input: Tensor(\"dense_17/Relu:0\", shape=(?, 784), dtype=float32)\n",
      "output: Tensor(\"dense_18/Softmax:0\", shape=(?, 10), dtype=float32)\n",
      "units: 10\n",
      "Train on 60000 samples, validate on 10000 samples\n",
      "Epoch 1/10\n",
      " - 8s - loss: 0.2787 - acc: 0.9209 - val_loss: 0.1418 - val_acc: 0.9571\n",
      "Epoch 2/10\n",
      " - 7s - loss: 0.1117 - acc: 0.9676 - val_loss: 0.0925 - val_acc: 0.9711\n",
      "Epoch 3/10\n",
      " - 7s - loss: 0.0717 - acc: 0.9797 - val_loss: 0.0792 - val_acc: 0.9770\n",
      "Epoch 4/10\n",
      " - 7s - loss: 0.0501 - acc: 0.9859 - val_loss: 0.0747 - val_acc: 0.9769\n",
      "Epoch 5/10\n",
      " - 7s - loss: 0.0371 - acc: 0.9892 - val_loss: 0.0680 - val_acc: 0.9781\n",
      "Epoch 6/10\n",
      " - 7s - loss: 0.0269 - acc: 0.9926 - val_loss: 0.0634 - val_acc: 0.9800\n",
      "Epoch 7/10\n",
      " - 7s - loss: 0.0207 - acc: 0.9949 - val_loss: 0.0629 - val_acc: 0.9807\n",
      "Epoch 8/10\n",
      " - 8s - loss: 0.0143 - acc: 0.9968 - val_loss: 0.0645 - val_acc: 0.9783\n",
      "Epoch 9/10\n",
      " - 7s - loss: 0.0108 - acc: 0.9979 - val_loss: 0.0596 - val_acc: 0.9811\n",
      "Epoch 10/10\n",
      " - 7s - loss: 0.0079 - acc: 0.9984 - val_loss: 0.0588 - val_acc: 0.9821\n",
      "Baseline Error: 1.79%\n"
     ]
    }
   ],
   "source": [
    "# build the model\n",
    "model = baseline_model()\n",
    "visualize_model(model)\n",
    "# Fit the model\n",
    "model.fit(X_train, y_train, validation_data=(X_test, y_test), epochs=10, batch_size=200, verbose=2)\n",
    "# Final evaluation of the model\n",
    "scores = model.evaluate(X_test, y_test, verbose=0)\n",
    "print(\"Baseline Error: %.2f%%\" % (100-scores[1]*100))"
   ]
  },
  {
   "cell_type": "code",
   "execution_count": 46,
   "metadata": {},
   "outputs": [
    {
     "data": {
      "image/png": "[encoded data removed]",
      "text/plain": [
       "<matplotlib.figure.Figure at 0x1427e5e80>"
      ]
     },
     "metadata": {},
     "output_type": "display_data"
    },
    {
     "data": {
      "image/png": "[encoded data removed]",
      "text/plain": [
       "<matplotlib.figure.Figure at 0x13323ec50>"
      ]
     },
     "metadata": {},
     "output_type": "display_data"
    },
    {
     "name": "stdout",
     "output_type": "stream",
     "text": [
      "Most likely: 3\n"
     ]
    }
   ],
   "source": [
    "fromfile = img.imread(\"../drawingboard/digit.png\")\n",
    "reduced = fromfile[:,:,0]\n",
    "plt.imshow(reduced, cmap=plt.get_cmap('gray'))\n",
    "plt.show()\n",
    "test = reduced.reshape(784)\n",
    "predicted = model.predict(numpy.array([test]), 1)\n",
    "plt.bar([0, 1, 2, 3, 4, 5, 6, 7, 8, 9], predicted[0], align='edge')\n",
    "plt.show()\n",
    "print(\"Most likely:\", numpy.argmax(predicted))"
   ]
  }
 ],
 "metadata": {
  "kernelspec": {
   "display_name": "Python 3",
   "language": "python",
   "name": "python3"
  },
  "language_info": {
   "codemirror_mode": {
    "name": "ipython",
    "version": 3
   },
   "file_extension": ".py",
   "mimetype": "text/x-python",
   "name": "python",
   "nbconvert_exporter": "python",
   "pygments_lexer": "ipython3",
   "version": "3.6.4"
  }
 },
 "nbformat": 4,
 "nbformat_minor": 2
}
