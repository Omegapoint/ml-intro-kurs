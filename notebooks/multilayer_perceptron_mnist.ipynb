{
 "cells": [
  {
   "cell_type": "markdown",
   "metadata": {},
   "source": [
    "We start by importing some useful libraries: numpy for matrices, keras for machine learning and mathplotlib for visualizing data. We also make mathplotlib plots appear 'inline' i.e. in the notebook, along with the rest of the content."
   ]
  },
  {
   "cell_type": "code",
   "execution_count": null,
   "metadata": {},
   "outputs": [],
   "source": [
    "%matplotlib inline"
   ]
  },
  {
   "cell_type": "code",
   "execution_count": null,
   "metadata": {
    "scrolled": true
   },
   "outputs": [],
   "source": [
    "import numpy\n",
    "from keras.datasets import mnist\n",
    "from keras.models import Sequential\n",
    "from keras.layers import Dense\n",
    "from keras.utils import np_utils\n",
    "import matplotlib.pyplot as plt\n",
    "import matplotlib.image as img"
   ]
  },
  {
   "cell_type": "markdown",
   "metadata": {},
   "source": [
    "Download MNIST dataset (if needed) and separate training data and validation data. 'X' matrices are input data and 'y' vectors are expected outputs, i.e. labels."
   ]
  },
  {
   "cell_type": "code",
   "execution_count": null,
   "metadata": {},
   "outputs": [],
   "source": [
    "(X_train_raw, y_train_raw), (X_test_raw, y_test_raw) = mnist.load_data()\n",
    "\n",
    "print(\"X_train shape:\", X_train_raw.shape)\n",
    "print(\"y_train shape:\", y_train_raw.shape)\n",
    "print(\"X_test shape:\", X_test_raw.shape)\n",
    "print(\"y_test shape:\", y_test_raw.shape)"
   ]
  },
  {
   "cell_type": "markdown",
   "metadata": {},
   "source": [
    "We print some samples of the input data just to show what it looks like."
   ]
  },
  {
   "cell_type": "code",
   "execution_count": null,
   "metadata": {},
   "outputs": [],
   "source": [
    "plt.subplot(2, 2, 1)\n",
    "plt.imshow(X_train_raw[0], cmap=plt.get_cmap('gray'))\n",
    "plt.subplot(2, 2, 2)\n",
    "plt.imshow(X_train_raw[1], cmap=plt.get_cmap('gray'))\n",
    "plt.subplot(2, 2, 3)\n",
    "plt.imshow(X_train_raw[2], cmap=plt.get_cmap('gray'))\n",
    "plt.subplot(2, 2, 4)\n",
    "plt.imshow(X_train_raw[3], cmap=plt.get_cmap('gray'))\n",
    "# show the plot\n",
    "plt.show()\n",
    "\n",
    "for i in range(0,4):\n",
    "    print(\"y_train_raw[%d]:\" % i, y_train_raw[i])"
   ]
  },
  {
   "cell_type": "code",
   "execution_count": null,
   "metadata": {},
   "outputs": [],
   "source": [
    "# flatten 28*28 images to a 784 vector for each image\n",
    "num_pixels = X_train_raw.shape[1] * X_train_raw.shape[2]\n",
    "X_train_flattened = X_train_raw.reshape(X_train_raw.shape[0], num_pixels).astype('float32')\n",
    "X_test_flattened = X_test_raw.reshape(X_test_raw.shape[0], num_pixels).astype('float32')\n",
    "\n",
    "print(\"X_train_flattened shape:\", X_train_flattened.shape)\n",
    "print(\"X_test_flattened shape:\", X_test_flattened.shape)\n",
    "plt.subplot(411)\n",
    "plt.imshow([X_train_flattened[0]], cmap=plt.get_cmap('gray'), extent = (0, 784, 0, 70), aspect='equal')\n",
    "plt.subplot(412)\n",
    "plt.imshow([X_train_flattened[1]], cmap=plt.get_cmap('gray'), extent = (0, 784, 0, 70), aspect='equal')\n",
    "plt.subplot(413)\n",
    "plt.imshow([X_train_flattened[2]], cmap=plt.get_cmap('gray'), extent = (0, 784, 0, 70), aspect='equal')\n",
    "plt.subplot(414)\n",
    "plt.imshow([X_train_flattened[3]], cmap=plt.get_cmap('gray'), extent = (0, 784, 0, 70), aspect='equal')\n",
    "plt.show()\n",
    "\n",
    "for i in range(0,4):\n",
    "    print(\"y_train_raw[%d]:\" % i, y_train_raw[i])"
   ]
  },
  {
   "cell_type": "code",
   "execution_count": null,
   "metadata": {},
   "outputs": [],
   "source": [
    "# normalize inputs from 0-255 to 0-1\n",
    "X_train = X_train_flattened / 255\n",
    "X_test = X_test_flattened / 255\n",
    "print(\"X_train shape: still\", X_train.shape)\n",
    "print(\"X_test shape: still\", X_test.shape)"
   ]
  },
  {
   "cell_type": "code",
   "execution_count": null,
   "metadata": {},
   "outputs": [],
   "source": [
    "# one hot encode outputs\n",
    "y_train = np_utils.to_categorical(y_train_raw)\n",
    "y_test = np_utils.to_categorical(y_test_raw)\n",
    "num_classes = y_test.shape[1]\n",
    "print(\"y_test_raw[0]: \", y_test_raw[0])\n",
    "print(\"y_test[0]: \", y_test[0])"
   ]
  },
  {
   "cell_type": "markdown",
   "metadata": {},
   "source": [
    "We define a function that creates a neural network architecture with one hidden layer and initializes its weights to random numbers. num_pixel is 784, the number of pixels in each of our input samples. num_classes is 10, one for each number from 0 to 9.\n",
    "\n",
    "We will probably want to reuse this model definition and initialization later on."
   ]
  },
  {
   "cell_type": "code",
   "execution_count": null,
   "metadata": {},
   "outputs": [],
   "source": [
    "def create_model():\n",
    "    # define architecture\n",
    "    model = Sequential()\n",
    "    model.add(Dense(num_pixels, input_dim=num_pixels, kernel_initializer='normal', activation='relu'))\n",
    "    model.add(Dense(num_classes, kernel_initializer='normal', activation='softmax'))\n",
    "    # Build model with a cost function (loss) and an optimizer.\n",
    "    model.compile(loss='categorical_crossentropy', optimizer='adam', metrics=['accuracy'])\n",
    "    return model"
   ]
  },
  {
   "cell_type": "markdown",
   "metadata": {},
   "source": [
    "This function trains a given model with given training data and prints the result. The training data is divided into batches of 200 samples each and we train the model on them until all samples have been seen 10 times."
   ]
  },
  {
   "cell_type": "code",
   "execution_count": null,
   "metadata": {},
   "outputs": [],
   "source": [
    "def train_model(model, X_train, y_train):\n",
    "    # Train the model\n",
    "    model.fit(X_train, y_train, validation_data=(X_test, y_test), epochs=10, batch_size=200, verbose=2)\n",
    "    # Final evaluation of the model\n",
    "    scores = model.evaluate(X_test, y_test, verbose=0)\n",
    "    print(\"Baseline Error: %.2f%%\" % (100-scores[1]*100))"
   ]
  },
  {
   "cell_type": "markdown",
   "metadata": {},
   "source": [
    "Finally: We create an untrained model, and train it. Once this is done, it should be able to reasonably recognize hand-written digits."
   ]
  },
  {
   "cell_type": "code",
   "execution_count": null,
   "metadata": {},
   "outputs": [],
   "source": [
    "model = create_model()\n",
    "\n",
    "train_model(model, X_train, y_train)"
   ]
  },
  {
   "cell_type": "markdown",
   "metadata": {},
   "source": [
    "Utility function to read an image file, assumed to be a 28x28 black-and-white .png image containing one hand-written digit."
   ]
  },
  {
   "cell_type": "code",
   "execution_count": null,
   "metadata": {},
   "outputs": [],
   "source": [
    "def read_digit(filename):\n",
    "    fromfile = img.imread(filename)\n",
    "    grayscale_image = fromfile[:,:,0] # Reduced to grayscale from RGB\n",
    "    plt.imshow(grayscale_image, cmap=plt.get_cmap('gray'))\n",
    "    plt.show()\n",
    "    return grayscale_image.reshape(784)"
   ]
  },
  {
   "cell_type": "code",
   "execution_count": null,
   "metadata": {},
   "outputs": [],
   "source": [
    "def evaluate_with_image(model, filename):\n",
    "    test_digit = read_digit(filename)\n",
    "    # let the model predict what digit this is and visualize the result\n",
    "    predicted = model.predict(numpy.array([test_digit]), 1)\n",
    "    plt.bar([0, 1, 2, 3, 4, 5, 6, 7, 8, 9], predicted[0], align='center')\n",
    "    plt.show()\n",
    "    print(\"Most likely:\", numpy.argmax(predicted))"
   ]
  },
  {
   "cell_type": "code",
   "execution_count": null,
   "metadata": {},
   "outputs": [],
   "source": [
    "evaluate_with_image(model, \"../drawingboard/digit.png\")"
   ]
  },
  {
   "cell_type": "markdown",
   "metadata": {},
   "source": [
    "### Your task: train a new model to recognize sevens with a horizontal bar.\n",
    "\n",
    "#### Hints:\n",
    "1. You need to add training data containing sevens with horizontal bars, both input (X_train) and output (y_train)\n",
    "2. There are 5 files containing handwritten sevens in \"../sevens/digit{1-5}.png\"\n",
    "\n",
    "#### Some useful functions:\n",
    "\n",
    "`[ expr(i) for i in range(MAX)]` <-- creates a list with MAX elements, values expr(i) from 0 to MAX, i.e.\n",
    "\n",
    "`[ i*i for i in range(4)]` => `[0, 1, 4, 9]`\n",
    "\n",
    "`[1, 2, 3].append(4)` => `[1, 2, 3, 4]`\n",
    "\n",
    "`numpy.append(numpy.create([[1, 2],[3, 4]]), [5, 6])` => `numpy.array([[1, 2], [3, 4], [5, 6]])`"
   ]
  },
  {
   "cell_type": "code",
   "execution_count": null,
   "metadata": {},
   "outputs": [],
   "source": [
    "def read_seven(sequence_number):\n",
    "    return read_digit(\"../sevens/digit\" + str(sequence_number) + \".png\")\n",
    "\n",
    "sevens = []\n",
    "for i in range(5):\n",
    "    sevens.append(read_seven(i+1))\n",
    "sevens =[sevens[i%5] for i in range(1000)]\n",
    "#print(type(X_train))\n",
    "X_train_new = numpy.append(X_train, sevens, axis = 0)\n",
    "#X_train.append(sevens, axis=0)\n"
   ]
  },
  {
   "cell_type": "code",
   "execution_count": null,
   "metadata": {},
   "outputs": [],
   "source": [
    "y_seven = [0., 0., 0., 0., 0., 0., 0., 1., 0., 0.]\n",
    "y_sevens = [y_seven for i in range(1000)]\n",
    "y_train_new = numpy.append(y_train, y_sevens, axis = 0)"
   ]
  },
  {
   "cell_type": "code",
   "execution_count": null,
   "metadata": {},
   "outputs": [],
   "source": [
    "model = create_model()\n",
    "# Fit the model with all the new sevens\n",
    "model.fit(X_train_new, y_train_new, validation_data=(X_test, y_test), epochs=10, batch_size=200, verbose=2)\n",
    "# Final evaluation of the model\n",
    "scores = model.evaluate(X_test, y_test, verbose=0)\n",
    "print(\"Baseline Error: %.2f%%\" % (100-scores[1]*100))"
   ]
  },
  {
   "cell_type": "code",
   "execution_count": null,
   "metadata": {},
   "outputs": [],
   "source": [
    "def print_weights(layer):\n",
    "    weights = layer.get_weights()\n",
    "    input_weights = weights[0]\n",
    "    bias_vector = weights[1]\n",
    "    print(\"input weights shape:\", numpy.array(input_weights).shape)\n",
    "    print(\"bias vector shape:\", numpy.array(bias_vector).shape)\n",
    "    print(\"input weights first neuron:\", input_weights[0])\n",
    "    print(\"bias vector:\", bias_vector)\n",
    "\n",
    "    \n",
    "def describe_model(model):\n",
    "    for layer in model.layers:\n",
    "        print(\"units:\", layer.units)\n",
    "        print(\"input:\", layer.input)\n",
    "        print(\"output:\", layer.output)\n",
    "        print_weights(layer)"
   ]
  }
 ],
 "metadata": {
  "kernelspec": {
   "display_name": "Python 3",
   "language": "python",
   "name": "python3"
  },
  "language_info": {
   "codemirror_mode": {
    "name": "ipython",
    "version": 3
   },
   "file_extension": ".py",
   "mimetype": "text/x-python",
   "name": "python",
   "nbconvert_exporter": "python",
   "pygments_lexer": "ipython3",
   "version": "3.6.4"
  }
 },
 "nbformat": 4,
 "nbformat_minor": 2
}
