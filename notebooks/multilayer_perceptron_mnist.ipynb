{
 "cells": [
  {
   "cell_type": "code",
   "execution_count": 17,
   "metadata": {},
   "outputs": [],
   "source": [
    "%matplotlib inline"
   ]
  },
  {
   "cell_type": "code",
   "execution_count": 18,
   "metadata": {
    "scrolled": true
   },
   "outputs": [],
   "source": [
    "import numpy\n",
    "from keras.datasets import mnist\n",
    "from keras.models import Sequential\n",
    "from keras.layers import Dense\n",
    "from keras.utils import np_utils\n",
    "import matplotlib.pyplot as plt\n",
    "import matplotlib.image as img"
   ]
  },
  {
   "cell_type": "markdown",
   "metadata": {},
   "source": [
    "Initialize dataset and random seed (for reproducible results)"
   ]
  },
  {
   "cell_type": "code",
   "execution_count": 19,
   "metadata": {},
   "outputs": [],
   "source": [
    "(X_train_raw, y_train_raw), (X_test_raw, y_test_raw) = mnist.load_data()\n",
    "\n",
    "# make immutable: we want to keep this data.\n",
    "X_train_raw.flags.writeable = False\n",
    "X_test_raw.flags.writeable = False\n",
    "y_train_raw.flags.writeable = False\n",
    "y_test_raw.flags.writeable = False\n",
    "\n",
    "# fix random seed for reproducibility\n",
    "seed = 7\n",
    "numpy.random.seed(seed)"
   ]
  },
  {
   "cell_type": "markdown",
   "metadata": {},
   "source": [
    "We print some samples of the input data just to show what it looks like."
   ]
  },
  {
   "cell_type": "code",
   "execution_count": 20,
   "metadata": {},
   "outputs": [
    {
     "name": "stdout",
     "output_type": "stream",
     "text": [
      "X_train shape: (60000, 28, 28)\n",
      "y_train shape: (60000,)\n",
      "X_test shape: (10000, 28, 28)\n",
      "y_test shape: (10000,)\n"
     ]
    },
    {
     "data": {
      "image/png": "[encoded data removed]",
      "text/plain": [
       "<matplotlib.figure.Figure at 0x14875bfd0>"
      ]
     },
     "metadata": {},
     "output_type": "display_data"
    },
    {
     "name": "stdout",
     "output_type": "stream",
     "text": [
      "y_train_raw[0]: 5\n",
      "y_train_raw[1]: 0\n",
      "y_train_raw[2]: 4\n",
      "y_train_raw[3]: 1\n"
     ]
    }
   ],
   "source": [
    "print(\"X_train shape:\", X_train_raw.shape)\n",
    "print(\"y_train shape:\", y_train_raw.shape)\n",
    "print(\"X_test shape:\", X_test_raw.shape)\n",
    "print(\"y_test shape:\", y_test_raw.shape)\n",
    "\n",
    "# plot 4 images as gray scale\n",
    "plt.subplot(221)\n",
    "plt.imshow(X_train_raw[0], cmap=plt.get_cmap('gray'))\n",
    "plt.subplot(222)\n",
    "plt.imshow(X_train_raw[1], cmap=plt.get_cmap('gray'))\n",
    "plt.subplot(223)\n",
    "plt.imshow(X_train_raw[2], cmap=plt.get_cmap('gray'))\n",
    "plt.subplot(224)\n",
    "plt.imshow(X_train_raw[3], cmap=plt.get_cmap('gray'))\n",
    "# show the plot\n",
    "plt.show()\n",
    "\n",
    "for i in range(0,4):\n",
    "    print(\"y_train_raw[%d]:\" % i, y_train_raw[i])"
   ]
  },
  {
   "cell_type": "code",
   "execution_count": 21,
   "metadata": {},
   "outputs": [
    {
     "name": "stdout",
     "output_type": "stream",
     "text": [
      "X_train_flattened shape: (60000, 784)\n",
      "X_test_flattened shape: (10000, 784)\n"
     ]
    },
    {
     "data": {
      "image/png": "[encoded data removed]",
      "text/plain": [
       "<matplotlib.figure.Figure at 0x1488fde80>"
      ]
     },
     "metadata": {},
     "output_type": "display_data"
    },
    {
     "name": "stdout",
     "output_type": "stream",
     "text": [
      "y_train_raw[0]: 5\n",
      "y_train_raw[1]: 0\n",
      "y_train_raw[2]: 4\n",
      "y_train_raw[3]: 1\n"
     ]
    }
   ],
   "source": [
    "# flatten 28*28 images to a 784 vector for each image\n",
    "num_pixels = X_train_raw.shape[1] * X_train_raw.shape[2]\n",
    "X_train_flattened = X_train_raw.reshape(X_train_raw.shape[0], num_pixels).astype('float32')\n",
    "X_test_flattened = X_test_raw.reshape(X_test_raw.shape[0], num_pixels).astype('float32')\n",
    "\n",
    "print(\"X_train_flattened shape:\", X_train_flattened.shape)\n",
    "print(\"X_test_flattened shape:\", X_test_flattened.shape)\n",
    "plt.subplot(411)\n",
    "plt.imshow([X_train_flattened[0]], cmap=plt.get_cmap('gray'), extent = (0, 784, 0, 70), aspect='equal')\n",
    "plt.subplot(412)\n",
    "plt.imshow([X_train_flattened[1]], cmap=plt.get_cmap('gray'), extent = (0, 784, 0, 70), aspect='equal')\n",
    "plt.subplot(413)\n",
    "plt.imshow([X_train_flattened[2]], cmap=plt.get_cmap('gray'), extent = (0, 784, 0, 70), aspect='equal')\n",
    "plt.subplot(414)\n",
    "plt.imshow([X_train_flattened[3]], cmap=plt.get_cmap('gray'), extent = (0, 784, 0, 70), aspect='equal')\n",
    "plt.show()\n",
    "\n",
    "for i in range(0,4):\n",
    "    print(\"y_train_raw[%d]:\" % i, y_train_raw[i])"
   ]
  },
  {
   "cell_type": "code",
   "execution_count": 22,
   "metadata": {},
   "outputs": [
    {
     "name": "stdout",
     "output_type": "stream",
     "text": [
      "X_train shape: still (60000, 784)\n",
      "X_test shape: still (10000, 784)\n"
     ]
    }
   ],
   "source": [
    "# normalize inputs from 0-255 to 0-1\n",
    "X_train = X_train_flattened / 255\n",
    "X_test = X_test_flattened / 255\n",
    "print(\"X_train shape: still\", X_train.shape)\n",
    "print(\"X_test shape: still\", X_test.shape)"
   ]
  },
  {
   "cell_type": "code",
   "execution_count": 23,
   "metadata": {},
   "outputs": [
    {
     "name": "stdout",
     "output_type": "stream",
     "text": [
      "y_test_raw[0]:  7\n",
      "y_test[0]:  [ 0.  0.  0.  0.  0.  0.  0.  1.  0.  0.]\n"
     ]
    }
   ],
   "source": [
    "# one hot encode outputs\n",
    "y_train = np_utils.to_categorical(y_train_raw)\n",
    "y_test = np_utils.to_categorical(y_test_raw)\n",
    "num_classes = y_test.shape[1]\n",
    "print(\"y_test_raw[0]: \", y_test_raw[0])\n",
    "print(\"y_test[0]: \", y_test[0])"
   ]
  },
  {
   "cell_type": "code",
   "execution_count": 24,
   "metadata": {},
   "outputs": [],
   "source": [
    "# define baseline model\n",
    "def baseline_model():\n",
    "    # create model\n",
    "    model = Sequential()\n",
    "    model.add(Dense(num_pixels, input_dim=num_pixels, kernel_initializer='normal', activation='relu'))\n",
    "    model.add(Dense(num_classes, kernel_initializer='normal', activation='softmax'))\n",
    "    # Compile model\n",
    "    model.compile(loss='categorical_crossentropy', optimizer='adam', metrics=['accuracy'])\n",
    "    return model"
   ]
  },
  {
   "cell_type": "code",
   "execution_count": 25,
   "metadata": {},
   "outputs": [],
   "source": [
    "def print_weights(layer):\n",
    "    weights = layer.get_weights()\n",
    "    input_weights = weights[0]\n",
    "    bias_vector = weights[1]\n",
    "    print(\"input weights shape:\", numpy.array(input_weights).shape)\n",
    "    print(\"bias vector shape:\", numpy.array(bias_vector).shape)\n",
    "    print(\"input weights first neuron:\", input_weights[0])\n",
    "    print(\"bias vector:\", bias_vector)\n",
    "\n",
    "    \n",
    "def visualize_model(model):\n",
    "    for layer in model.layers:\n",
    "        print(\"units:\", layer.units)\n",
    "        print(\"input:\", layer.input)\n",
    "        print(\"output:\", layer.output)\n",
    "        print_weights(layer)"
   ]
  },
  {
   "cell_type": "code",
   "execution_count": 28,
   "metadata": {},
   "outputs": [],
   "source": [
    "# build the model\n",
    "model = baseline_model()\n",
    "#visualize_model(model)"
   ]
  },
  {
   "cell_type": "code",
   "execution_count": 30,
   "metadata": {},
   "outputs": [
    {
     "name": "stdout",
     "output_type": "stream",
     "text": [
      "Train on 60000 samples, validate on 10000 samples\n",
      "Epoch 1/10\n",
      " - 7s - loss: 0.2717 - acc: 0.9228 - val_loss: 0.1393 - val_acc: 0.9597\n",
      "Epoch 2/10\n",
      " - 6s - loss: 0.1101 - acc: 0.9681 - val_loss: 0.0957 - val_acc: 0.9703\n",
      "Epoch 3/10\n",
      " - 6s - loss: 0.0698 - acc: 0.9801 - val_loss: 0.0738 - val_acc: 0.9773\n",
      "Epoch 4/10\n",
      " - 7s - loss: 0.0491 - acc: 0.9860 - val_loss: 0.0693 - val_acc: 0.9786\n",
      "Epoch 5/10\n",
      " - 7s - loss: 0.0357 - acc: 0.9899 - val_loss: 0.0664 - val_acc: 0.9791\n",
      "Epoch 6/10\n",
      " - 6s - loss: 0.0260 - acc: 0.9933 - val_loss: 0.0669 - val_acc: 0.9791\n",
      "Epoch 7/10\n",
      " - 6s - loss: 0.0199 - acc: 0.9950 - val_loss: 0.0600 - val_acc: 0.9803\n",
      "Epoch 8/10\n",
      " - 6s - loss: 0.0151 - acc: 0.9963 - val_loss: 0.0597 - val_acc: 0.9803\n",
      "Epoch 9/10\n",
      " - 6s - loss: 0.0106 - acc: 0.9978 - val_loss: 0.0637 - val_acc: 0.9799\n",
      "Epoch 10/10\n",
      " - 6s - loss: 0.0071 - acc: 0.9989 - val_loss: 0.0586 - val_acc: 0.9812\n",
      "Baseline Error: 1.88%\n"
     ]
    }
   ],
   "source": [
    "# Fit the model\n",
    "model.fit(X_train, y_train, validation_data=(X_test, y_test), epochs=10, batch_size=200, verbose=2)\n",
    "#visualize_model(model)\n",
    "# Final evaluation of the model\n",
    "scores = model.evaluate(X_test, y_test, verbose=0)\n",
    "print(\"Baseline Error: %.2f%%\" % (100-scores[1]*100))"
   ]
  },
  {
   "cell_type": "code",
   "execution_count": 66,
   "metadata": {},
   "outputs": [
    {
     "data": {
      "image/png": "[encoded data removed]",
      "text/plain": [
       "<matplotlib.figure.Figure at 0x12cd63080>"
      ]
     },
     "metadata": {},
     "output_type": "display_data"
    },
    {
     "data": {
      "image/png": "[encoded data removed]",
      "text/plain": [
       "<matplotlib.figure.Figure at 0x12aa8f828>"
      ]
     },
     "metadata": {},
     "output_type": "display_data"
    },
    {
     "name": "stdout",
     "output_type": "stream",
     "text": [
      "Most likely: 7\n"
     ]
    }
   ],
   "source": [
    "fromfile = img.imread(\"../drawingboard/digit.png\")\n",
    "reduced = fromfile[:,:,0]\n",
    "plt.imshow(reduced, cmap=plt.get_cmap('gray'))\n",
    "plt.show()\n",
    "test = reduced.reshape(784)\n",
    "predicted = model.predict(numpy.array([test]), 1)\n",
    "plt.bar([0, 1, 2, 3, 4, 5, 6, 7, 8, 9], predicted[0], align='center')\n",
    "plt.show()\n",
    "print(\"Most likely:\", numpy.argmax(predicted))"
   ]
  },
  {
   "cell_type": "code",
   "execution_count": 39,
   "metadata": {},
   "outputs": [],
   "source": [
    "def read_digit(sequence_number):\n",
    "    fromfile = img.imread(\"../sevens/digit\" + str(sequence_number) + \".png\")\n",
    "    reduced = fromfile[:,:,0]\n",
    "    plt.imshow(reduced, cmap=plt.get_cmap('gray'))\n",
    "    #plt.show()\n",
    "    return reduced.reshape(784)"
   ]
  },
  {
   "cell_type": "code",
   "execution_count": 67,
   "metadata": {},
   "outputs": [
    {
     "name": "stdout",
     "output_type": "stream",
     "text": [
      "(60000, 10)\n",
      "(1000, 10)\n",
      "(1000, 784)\n",
      "(61000, 784)\n",
      "Train on 61000 samples, validate on 10000 samples\n",
      "Epoch 1/10\n",
      " - 7s - loss: 0.0012 - acc: 1.0000 - val_loss: 0.0638 - val_acc: 0.9837\n",
      "Epoch 2/10\n",
      " - 9s - loss: 9.1486e-04 - acc: 1.0000 - val_loss: 0.0637 - val_acc: 0.9832\n",
      "Epoch 3/10\n",
      " - 7s - loss: 7.6482e-04 - acc: 1.0000 - val_loss: 0.0647 - val_acc: 0.9841\n",
      "Epoch 4/10\n",
      " - 6s - loss: 6.3337e-04 - acc: 1.0000 - val_loss: 0.0661 - val_acc: 0.9832\n",
      "Epoch 5/10\n",
      " - 6s - loss: 5.4749e-04 - acc: 1.0000 - val_loss: 0.0660 - val_acc: 0.9836\n",
      "Epoch 6/10\n",
      " - 7s - loss: 4.6231e-04 - acc: 1.0000 - val_loss: 0.0672 - val_acc: 0.9839\n",
      "Epoch 7/10\n",
      " - 7s - loss: 3.5046e-04 - acc: 1.0000 - val_loss: 0.0685 - val_acc: 0.9839\n",
      "Epoch 8/10\n",
      " - 6s - loss: 3.0071e-04 - acc: 1.0000 - val_loss: 0.0686 - val_acc: 0.9847\n",
      "Epoch 9/10\n",
      " - 7s - loss: 2.6077e-04 - acc: 1.0000 - val_loss: 0.0689 - val_acc: 0.9842\n",
      "Epoch 10/10\n",
      " - 7s - loss: 2.1268e-04 - acc: 1.0000 - val_loss: 0.0698 - val_acc: 0.9835\n",
      "Baseline Error: 1.65%\n"
     ]
    },
    {
     "data": {
      "image/png": "[encoded data removed]",
      "text/plain": [
       "<matplotlib.figure.Figure at 0x12cbfee48>"
      ]
     },
     "metadata": {},
     "output_type": "display_data"
    }
   ],
   "source": [
    "five_sevens = [ read_digit(1), read_digit(2), read_digit(3), read_digit(4), read_digit(5)]\n",
    "sevens = list()\n",
    "for i in range(0,1000):\n",
    "    sevens.append(five_sevens[i % 5])\n",
    "    \n",
    "new_data = numpy.array(sevens)\n",
    "y_sevens = [7 for x in range(1000)]\n",
    "y_sevens_bitmask = numpy.array([numpy.array([0, 0, 0, 0, 0, 0, 0, 1, 0, 0]).transpose() for x in range(1000)])\n",
    "print(y_train.shape)\n",
    "print(y_sevens_bitmask.shape)\n",
    "print(new_data.shape)\n",
    "new_x=numpy.append(X_train, new_data, axis=0)\n",
    "print(new_x.shape)\n",
    "model.fit(new_x, numpy.append(y_train, y_sevens_bitmask, axis=0), validation_data=(X_test, y_test), epochs=10, batch_size=200, verbose=2)\n",
    "scores = model.evaluate(X_test, y_test, verbose=0)\n",
    "print(\"Baseline Error: %.2f%%\" % (100-scores[1]*100))"
   ]
  },
  {
   "cell_type": "code",
   "execution_count": null,
   "metadata": {},
   "outputs": [],
   "source": []
  }
 ],
 "metadata": {
  "kernelspec": {
   "display_name": "Python 3",
   "language": "python",
   "name": "python3"
  },
  "language_info": {
   "codemirror_mode": {
    "name": "ipython",
    "version": 3
   },
   "file_extension": ".py",
   "mimetype": "text/x-python",
   "name": "python",
   "nbconvert_exporter": "python",
   "pygments_lexer": "ipython3",
   "version": "3.6.4"
  }
 },
 "nbformat": 4,
 "nbformat_minor": 2
}
