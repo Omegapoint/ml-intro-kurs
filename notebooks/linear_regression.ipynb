{
 "cells": [
  {
   "cell_type": "code",
   "execution_count": null,
   "metadata": {},
   "outputs": [],
   "source": [
    "%matplotlib inline"
   ]
  },
  {
   "cell_type": "code",
   "execution_count": null,
   "metadata": {},
   "outputs": [],
   "source": [
    "import time\n",
    "import numpy\n",
    "from keras.utils import np_utils\n",
    "import matplotlib.pyplot as plt"
   ]
  },
  {
   "cell_type": "code",
   "execution_count": null,
   "metadata": {},
   "outputs": [],
   "source": [
    "X = numpy.array([0, 1, 2, 3, 4, 5, 6, 7, 8, 9])\n",
    "Y = numpy.array([2.5, 3, 6.5, 7.3, 6.9, 7.3, 10.3, 9.9, 10.3, 12.5])\n",
    "\n",
    "plt.scatter(X, Y)"
   ]
  },
  {
   "cell_type": "code",
   "execution_count": null,
   "metadata": {},
   "outputs": [],
   "source": [
    "alpha = 0.06\n",
    "x_size = 10\n",
    "k = 0\n",
    "m = 0\n",
    "\n",
    "def h(x):\n",
    "    return k + m*x"
   ]
  },
  {
   "cell_type": "code",
   "execution_count": null,
   "metadata": {},
   "outputs": [],
   "source": [
    "def iteration(k, m):\n",
    "    errors = numpy.subtract(h(X), Y)\n",
    "    errors_times_x = numpy.multiply(errors, X)\n",
    "    k = k - alpha * (1/x_size) * numpy.sum(errors)\n",
    "    m = m - alpha * (1/x_size) * numpy.sum(errors_times_x)\n",
    "    squared_errors = numpy.multiply(errors, errors)\n",
    "    plt.plot(X, h(X), 'r-')\n",
    "    plt.plot(X, Y, 'bo')\n",
    "    plt.show()\n",
    "    print(\"Cost:\", 0.5 * (1/x_size) * numpy.sum(squared_errors))\n",
    "    return (k, m)"
   ]
  },
  {
   "cell_type": "code",
   "execution_count": null,
   "metadata": {},
   "outputs": [],
   "source": [
    "k = 0\n",
    "m = 0\n",
    "\n",
    "for i in range(1,20):\n",
    "    (k, m) = iteration(k, m)\n",
    "    time.sleep(1)"
   ]
  },
  {
   "cell_type": "code",
   "execution_count": null,
   "metadata": {},
   "outputs": [],
   "source": []
  }
 ],
 "metadata": {
  "kernelspec": {
   "display_name": "Python 3",
   "language": "python",
   "name": "python3"
  },
  "language_info": {
   "codemirror_mode": {
    "name": "ipython",
    "version": 3
   },
   "file_extension": ".py",
   "mimetype": "text/x-python",
   "name": "python",
   "nbconvert_exporter": "python",
   "pygments_lexer": "ipython3",
   "version": "3.6.4"
  }
 },
 "nbformat": 4,
 "nbformat_minor": 2
}
