{
 "cells": [
  {
   "cell_type": "code",
   "execution_count": 137,
   "metadata": {},
   "outputs": [],
   "source": [
    "%matplotlib inline"
   ]
  },
  {
   "cell_type": "code",
   "execution_count": 138,
   "metadata": {},
   "outputs": [],
   "source": [
    "import time\n",
    "import numpy\n",
    "from keras.utils import np_utils\n",
    "import matplotlib.pyplot as plt"
   ]
  },
  {
   "cell_type": "code",
   "execution_count": 139,
   "metadata": {},
   "outputs": [
    {
     "data": {
      "text/plain": [
       "<matplotlib.collections.PathCollection at 0x1205c19b0>"
      ]
     },
     "execution_count": 139,
     "metadata": {},
     "output_type": "execute_result"
    },
    {
     "data": {
      "image/png": "[encoded data removed]",
      "text/plain": [
       "<matplotlib.figure.Figure at 0x1209e4a58>"
      ]
     },
     "metadata": {},
     "output_type": "display_data"
    }
   ],
   "source": [
    "X = numpy.array(range(10))\n",
    "y = numpy.array([2.5, 3, 6.5, 7.3, 6.9, 7.3, 10.3, 9.9, 10.3, 12.5])\n",
    "x_size = len(X)\n",
    "\n",
    "def line(k, m):\n",
    "    return k + m*X\n",
    "\n",
    "plt.scatter(X, y)"
   ]
  },
  {
   "cell_type": "code",
   "execution_count": 140,
   "metadata": {},
   "outputs": [],
   "source": [
    "def plot_current_state():\n",
    "    plt.figure(figsize=(6, 6))\n",
    "    plt.subplot(1,2,1)\n",
    "    plt.plot(X, line(k, m), 'r-')\n",
    "    plt.plot(X, y, 'bo')\n",
    "    plt.subplot(1,2,2)\n",
    "    plt.plot(range(len(costs)), costs, 'bo')\n",
    "    plt.show()\n",
    "\n",
    "def cost_function(actual, expected):\n",
    "    errors = numpy.subtract(actual, expected)\n",
    "    squared_errors = numpy.multiply(errors, errors)\n",
    "    return 0.5 * (1/x_size) * numpy.sum(squared_errors) \n",
    "\n",
    "def update_weights_with_gradient_descent(k, m):\n",
    "    errors = numpy.subtract(line(k, m), y)\n",
    "    k = k - alpha * (1/x_size) * numpy.sum(errors)\n",
    "    m = m - alpha * (1/x_size) * numpy.sum(numpy.multiply(errors, X))\n",
    "    return (k, m)\n",
    "\n",
    "def iteration(k, m, costs):\n",
    "    cost = cost_function(line(k, m), y)\n",
    "    costs.append(cost)\n",
    "    \n",
    "    (k, m) = update_weights_with_gradient_descent(k, m)\n",
    "    \n",
    "    \n",
    "    plot_current_state()\n",
    "    return (k, m, costs)"
   ]
  },
  {
   "cell_type": "code",
   "execution_count": 141,
   "metadata": {},
   "outputs": [],
   "source": [
    "alpha = 0.01\n",
    "k = 0\n",
    "m = 0\n",
    "costs = []"
   ]
  },
  {
   "cell_type": "code",
   "execution_count": 151,
   "metadata": {},
   "outputs": [
    {
     "data": {
      "image/png": "[encoded data removed]",
      "text/plain": [
       "<matplotlib.figure.Figure at 0x120fa6dd8>"
      ]
     },
     "metadata": {},
     "output_type": "display_data"
    }
   ],
   "source": [
    "(k, m, costs) = iteration(k, m, costs)"
   ]
  }
 ],
 "metadata": {
  "kernelspec": {
   "display_name": "Python 3",
   "language": "python",
   "name": "python3"
  },
  "language_info": {
   "codemirror_mode": {
    "name": "ipython",
    "version": 3
   },
   "file_extension": ".py",
   "mimetype": "text/x-python",
   "name": "python",
   "nbconvert_exporter": "python",
   "pygments_lexer": "ipython3",
   "version": "3.6.4"
  }
 },
 "nbformat": 4,
 "nbformat_minor": 2
}
